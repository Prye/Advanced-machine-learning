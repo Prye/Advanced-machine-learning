{
 "cells": [
  {
   "cell_type": "code",
   "execution_count": null,
   "metadata": {},
   "outputs": [],
   "source": [
    "import pylab as pb\n",
    "import numpy as np\n",
    "from math import pi\n",
    "from scipy.spatial.distance import cdist\n",
    "import matplotlib.pyplot as plt\n",
    "from scipy.stats import multivariate_normal\n",
    "from scipy.stats import norm\n",
    "from numpy import random"
   ]
  },
  {
   "cell_type": "code",
   "execution_count": null,
   "metadata": {},
   "outputs": [],
   "source": [
    "def SamplePrior(sigma,l,num):\n",
    "    x = np.arange(-5, 5, 0.01)\n",
    "    n = len(x)\n",
    "    mu = np.zeros((n))\n",
    "    kernal = ComputeDist(x,x,l,sigma) \n",
    "    samples = np.random.multivariate_normal(mu,kernal,num)\n",
    "    for i in range(num):\n",
    "        plt.plot(x,samples[i,:])\n",
    "    plt.title('length-scale: '+str(l))"
   ]
  },
  {
   "cell_type": "code",
   "execution_count": null,
   "metadata": {},
   "outputs": [],
   "source": [
    "def ComputeDist(x,y,l,sigma,beta):\n",
    "    X = np.transpose([x])\n",
    "    Y = np.transpose([y])\n",
    " #   X = x[:,None]\n",
    "  #  Y = y[:,None]\n",
    "    dis = cdist(X,Y,'sqeuclidean')\n",
    "    if beta == 'None':\n",
    "        kernal = np.exp(-dis/(l*l)) * (sigma*sigma)\n",
    "    else:\n",
    "        kernal = np.exp(-dis/(l*l)) * (sigma*sigma) + beta * np.eye(len(X))\n",
    "    return kernal "
   ]
  },
  {
   "cell_type": "code",
   "execution_count": null,
   "metadata": {},
   "outputs": [],
   "source": [
    "def ComputePos(x,xlist,ylist,l,sigma,beta):\n",
    "    Cn = ComputeDist(xlist, xlist, l, sigma, beta) \n",
    "    ylist = np.transpose([ylist])\n",
    "    k = ComputeDist(x, xlist, l, sigma, 'None')\n",
    "    mu = np.dot(np.dot(k,np.linalg.inv(Cn)),ylist)\n",
    "    var = ComputeDist(x,x,l,sigma,beta) \n",
    "    var = var - np.dot(np.dot(k,np.linalg.inv(Cn)),np.transpose(k)) \n",
    "    return mu,var"
   ]
  },
  {
   "cell_type": "code",
   "execution_count": null,
   "metadata": {},
   "outputs": [],
   "source": [
    "def plotPos(X,Y,l,sigma,beta):\n",
    "    num = 400\n",
    "    x = np.linspace(-0.5*np.pi, 2.5*np.pi, num)\n",
    "    mu, var = ComputePos(x,X,Y,l,sigma,beta)\n",
    "    #print(mu.shape)\n",
    "    plt.figure()\n",
    "    #plot posterior\n",
    "    #plt.subplot(1,2,1)\n",
    "    #plt.plot(X, Y,'ko')\n",
    "    #plt.plot(x,np.cos(x),'r')\n",
    "    #plt.plot(x,mu+2*np.sqrt(var),label=\"$UpperBound$\", color=\"b\")\n",
    "    #plt.plot(x,mu-2*np.sqrt(var),label=\"$LowerBound$\", color=\"g\")\n",
    "    #plt.title('posterior: length-scale: '+str(l))\n",
    "    #plt.legend()\n",
    "    #plot samples\n",
    "    #plt.subplot(1,2,2)\n",
    "    plt.plot(X, Y,'ko')\n",
    "    plt.plot(x,np.cos(x),'r')\n",
    "    mu = np.reshape(mu,(num,))\n",
    "    Sam = np.random.multivariate_normal(mu,var,30)\n",
    "    for i in range(30):\n",
    "        plt.plot(x[:],Sam[i,:],linewidth=1)\n",
    "    plt.title('posterior samples: length-scale: '+str(l))\n",
    "    plt.show()"
   ]
  },
  {
   "cell_type": "code",
   "execution_count": null,
   "metadata": {},
   "outputs": [],
   "source": [
    "def plotPosSim(X,Y,l,sigma,beta):\n",
    "    num = 400\n",
    "    x = np.linspace(-0.5*np.pi, 2.5*np.pi, num)\n",
    "    mu, var = ComputePos(x,X,Y,l,sigma,beta)\n",
    "    plt.figure()\n",
    "    #plot posterior\n",
    "    plt.plot(X, Y,'ko')\n",
    "    plt.plot(x,np.cos(x),label=\"$TrueCos$\",color='r')\n",
    "    #plt.plot(x,mu+2*np.sqrt(var),label=\"$UpperBound$\", color=\"b\")\n",
    "    plt.plot(x,mu,label=\"$mean$\", color=\"b\")\n",
    "    #plt.plot(x,mu-2*np.sqrt(var),label=\"$LowerBound$\", color=\"g\")\n",
    "    plt.title('posterior : length-scale: '+str(l))\n",
    "    plt.legend()\n",
    "    plt.show()"
   ]
  },
  {
   "cell_type": "code",
   "execution_count": null,
   "metadata": {},
   "outputs": [],
   "source": [
    "#prior\n",
    "sigma = 1\n",
    "#num = 15\n",
    "#l = [0.1,0.5,3,15]\n",
    "#plt.figure()\n",
    "#for i in range(len(l)):\n",
    " #   plt.subplot(2,2,i+1)\n",
    " #   SamplePrior(sigma,l[i],num)\n",
    "#plt.show()\n",
    "\n",
    "#formulate the points\n",
    "l = [2.8,3,3.2]\n",
    "n = 7\n",
    "beta = 0.5\n",
    "xlist = np.linspace(0, 2*np.pi, n)\n",
    "ylist = np.cos(xlist) + random.normal(0, beta, n)\n",
    "for i in range(len(l)):\n",
    "    plotPos(xlist,ylist,l[i],sigma,0)\n",
    "    plotPosSim(xlist,ylist,l[i],sigma,beta)"
   ]
  }
 ],
 "metadata": {
  "kernelspec": {
   "display_name": "Python 3",
   "language": "python",
   "name": "python3"
  },
  "language_info": {
   "codemirror_mode": {
    "name": "ipython",
    "version": 3
   },
   "file_extension": ".py",
   "mimetype": "text/x-python",
   "name": "python",
   "nbconvert_exporter": "python",
   "pygments_lexer": "ipython3",
   "version": "3.7.3"
  }
 },
 "nbformat": 4,
 "nbformat_minor": 2
}
