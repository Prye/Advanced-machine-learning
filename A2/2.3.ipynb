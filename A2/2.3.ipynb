{
 "cells": [
  {
   "cell_type": "code",
   "execution_count": null,
   "metadata": {},
   "outputs": [],
   "source": [
    "import numpy as np\n",
    "from Tree import Tree\n",
    "from Tree import Node"
   ]
  },
  {
   "cell_type": "code",
   "execution_count": null,
   "metadata": {},
   "outputs": [],
   "source": [
    "def cal_rec(t, theta, beta, init, root, parent):\n",
    "    K = len(theta[0])\n",
    "    if root!=0 and init[root][parent]!=0:\n",
    "        return init[root][parent]\n",
    "    \n",
    "    if root in t:\n",
    "        child = np.where(t == root)\n",
    "        c1 = child[0][0]\n",
    "        c2 = child[0][1]\n",
    "        p = 0\n",
    "        for i in range(K):\n",
    "            if root == 0:\n",
    "                rv = theta[0][i]\n",
    "            else:\n",
    "                rv = theta[root][parent][i]\n",
    "            cv1 = cal_rec(t,theta,beta,init,c1,i)\n",
    "            cv2 = cal_rec(t,theta,beta,init,c2,i)\n",
    "            p += rv * cv1 * cv2\n",
    "        result = p\n",
    "        \n",
    "    else:\n",
    "        result = theta[root][parent][int(beta[root])]\n",
    "        \n",
    "    if root != 0:\n",
    "        init[root][parent] = result\n",
    "        \n",
    "    return result"
   ]
  },
  {
   "cell_type": "code",
   "execution_count": null,
   "metadata": {},
   "outputs": [],
   "source": [
    "def calculate_likelihood(tree_topology, theta, beta):\n",
    "    \n",
    "    print(\"Calculating the likelihood...\")\n",
    "    init = np.zeros((len(tree_topology), len(theta[0])))\n",
    "    likelihood = cal_rec(tree_topology, theta, beta, init, 0, np.nan)\n",
    "    \n",
    "    return likelihood"
   ]
  },
  {
   "cell_type": "code",
   "execution_count": null,
   "metadata": {},
   "outputs": [],
   "source": [
    "print(\"Hello World!\")\n",
    "print(\"This file is the solution template for question 2.3.\")\n",
    "\n",
    "print(\"\\n1. Load tree data from file and print it\\n\")\n",
    "\n",
    "filename = \"data/q2_3_small_tree.pkl\"  # \"data/q2_3_medium_tree.pkl\", \"data/q2_3_large_tree.pkl\"\n",
    "t = Tree()\n",
    "t.load_tree(filename)\n",
    "t.print()\n",
    "\n",
    "print(\"\\n2. Calculate likelihood of each FILTERED sample\\n\")\n",
    "# These filtered samples already available in the tree object.\n",
    "# Alternatively, if you want, you can load them from corresponding .txt or .npy files\n",
    "\n",
    "for sample_idx in range(t.num_samples):\n",
    "    beta = t.filtered_samples[sample_idx]\n",
    "    print(\"\\n\\tSample: \", sample_idx, \"\\tBeta: \", beta)\n",
    "    sample_likelihood = calculate_likelihood(t.get_topology_array(), t.get_theta_array(), beta)\n",
    "    print(\"\\tLikelihood: \", sample_likelihood)"
   ]
  }
 ],
 "metadata": {
  "kernelspec": {
   "display_name": "Python 3",
   "language": "python",
   "name": "python3"
  },
  "language_info": {
   "codemirror_mode": {
    "name": "ipython",
    "version": 3
   },
   "file_extension": ".py",
   "mimetype": "text/x-python",
   "name": "python",
   "nbconvert_exporter": "python",
   "pygments_lexer": "ipython3",
   "version": "3.7.6"
  }
 },
 "nbformat": 4,
 "nbformat_minor": 4
}
