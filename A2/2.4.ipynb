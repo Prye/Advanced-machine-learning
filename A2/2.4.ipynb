{
 "cells": [
  {
   "cell_type": "code",
   "execution_count": 2,
   "metadata": {},
   "outputs": [],
   "source": [
    "import numpy as np\n",
    "from matplotlib import pyplot as plt\n",
    "from scipy.stats import *"
   ]
  },
  {
   "cell_type": "code",
   "execution_count": null,
   "metadata": {},
   "outputs": [],
   "source": [
    "def inference(n):\n",
    "    an,bn,mn,ln = 0,0,0,0\n",
    "    for i in range(ITERATIONS):\n",
    "        an = "
   ]
  },
  {
   "cell_type": "code",
   "execution_count": null,
   "metadata": {},
   "outputs": [],
   "source": [
    "def likelihood(m, t):\n",
    "    N = len(SAMPLES)\n",
    "    e = - (t/2)*np.sum([(i-m) ** 2 for i in SAMPLES])\n",
    "    lh = pow(t/(2*np.pi),N/2) * np.exp(e)\n",
    "    return lh"
   ]
  },
  {
   "cell_type": "code",
   "execution_count": null,
   "metadata": {},
   "outputs": [],
   "source": [
    "def cal_parameters():\n",
    "    mu = np.linespace(MU-1,MU+1,N)\n",
    "    tau = np.linespace(TAU-1,TAU+1,N)\n",
    "    means, taus = np.meshgrid(mu, tau)\n",
    "    return mu, tau, means, taus"
   ]
  },
  {
   "cell_type": "code",
   "execution_count": null,
   "metadata": {},
   "outputs": [],
   "source": [
    "def cal_posterior(m,t,means,taus):\n",
    "    N = len(m)\n",
    "    pos = np.zero((N,N))\n",
    "    var = np.zero((N,N))\n",
    "    an,bn,mn,ln = inference(N)\n",
    "    for i in range(N):\n",
    "        for j in range(N):\n",
    "            pos[i][j] = norm.pdf(m[i], MU, pow(LAMDA * TAU, -1)) * gamma.pdf(t[j],A,B) * likelihood(m[i],t[j])\n",
    "            var[i][j] = norm.pdf(m[i], mn, np.sqrt(1/ln)) * gamma(t[j], an, bn)"
   ]
  }
 ],
 "metadata": {
  "kernelspec": {
   "display_name": "Python 3",
   "language": "python",
   "name": "python3"
  },
  "language_info": {
   "codemirror_mode": {
    "name": "ipython",
    "version": 3
   },
   "file_extension": ".py",
   "mimetype": "text/x-python",
   "name": "python",
   "nbconvert_exporter": "python",
   "pygments_lexer": "ipython3",
   "version": "3.7.6"
  }
 },
 "nbformat": 4,
 "nbformat_minor": 4
}
